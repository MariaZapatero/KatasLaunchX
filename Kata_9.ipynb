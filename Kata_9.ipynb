{
 "cells": [
  {
   "cell_type": "code",
   "execution_count": null,
   "metadata": {},
   "outputs": [],
   "source": [
    "from datetime import timedelta, datetime\n",
    "\n",
    "def arrival_time(hours=51):\n",
    "    now = datetime.now()\n",
    "    arrival = now + timedelta(hours=hours)\n",
    "    return arrival.strftime('Arrival: %A %H:%M')\n",
    "arrival_time()\n",
    "'Arrival: Saturday 16:42'"
   ]
  },
  {
   "cell_type": "markdown",
   "metadata": {},
   "source": [
    "# Ejercicio 1 \n",
    "## Uso de funciones"
   ]
  },
  {
   "cell_type": "code",
   "execution_count": null,
   "metadata": {},
   "outputs": [],
   "source": [
    "# Función para leer 3 tanques de combustible y muestre el promedio\n",
    "def informa_combustible(tanque_1,tanque_2,tanque_3):\n",
    "    sumea_de_tan= tanque_1 + tanque_2 + tanque_3 \n",
    "    promedio = sumea_de_tan/3\n",
    "    return f\"\"\" Reporte de los tanques de combustible\\n Promedio total: {promedio} % \\n Tanque superior de oxígeno líquido: {tanque_1} % \\n Tanque intermedio: {tanque_2} % \\n Tanque inferior de hidrógeno líquido: {tanque_3} %\\\n",
    "        \"\"\"\n",
    "# Llamamos a la función que genera el reporte print(funcion(tanque1, tanque2, tanque3))\n",
    "print(informa_combustible(84, 56, 54))\n"
   ]
  },
  {
   "cell_type": "code",
   "execution_count": null,
   "metadata": {},
   "outputs": [],
   "source": [
    "# Función promedio \n",
    "def promedio(tanques):\n",
    "    tanques.append(3)\n",
    "    total = 0\n",
    "    for value in tanques:\n",
    "        total = total + value \n",
    "        totals = total / 3\n",
    "        t=totals - 1\n",
    "    return t\n",
    "# Actualiza la función\n",
    "print(promedio ([84, 56, 54]))"
   ]
  },
  {
   "cell_type": "markdown",
   "metadata": {},
   "source": [
    "# Ejercicio 2\n",
    "## Palabras clave"
   ]
  },
  {
   "cell_type": "code",
   "execution_count": 51,
   "metadata": {},
   "outputs": [
    {
     "name": "stdout",
     "output_type": "stream",
     "text": [
      "Tanque: exter Procentaje 2234\n",
      " Informe de la mision\n",
      "            Destino: Marte  \n",
      "            Tiempo de viaje: 317 minutos \n",
      "            Combustible: 347700 \n",
      "        \n"
     ]
    }
   ],
   "source": [
    "# Función con un informe preciso de la misión. Considera hora de prelanzamiento, tiempo de vuelo, destino, tanque externo y tanque interno\n",
    "def informe_preciso(prelanzamiento,tiempo_vuelo,destino,tanque_exter,tanque_interno):\n",
    "    return f\"\"\" Informe de la mision\n",
    "            \\nPrelanzamiento: {prelanzamiento} \n",
    "            \\n Tiempo de vuelo: {tiempo_vuelo} \n",
    "            \\n Destino: {destino}  \n",
    "            \\n Tanque externo: {tanque_exter} %\n",
    "            \\n Tanque interno: {tanque_interno} %\n",
    "        \"\"\"\n",
    "#print(informe_preciso(84, 56, \"Marte\",99,78))\n",
    "# Escribe tu nueva función de reporte considerando lo anterior\n",
    "def informe_preciso(destino,*minutes,**fuel_reservoirs): \n",
    "    return f\"\"\" Informe de la mision\n",
    "            \\n Destino: {destino}  \n",
    "            \\nTiempo de viaje: {sum(minutes)} minutos\n",
    "            \\n Combustible: {sum(fuel_reservoirs.values())} \n",
    "        \"\"\"\n",
    "#print(informe_preciso(\"Marte\",84,56,99,78,exter=2234,inter=345466))\n",
    "#Debido a que el combustible que queda en los tanques es específico de cada tanque, actualiza la función para usar el nombre de cada tanque en el informe:\n",
    "def informe_preciso(destino,*minutes,**fuel_reservoirs): \n",
    "    Report = f\"\"\" Informe de la mision\n",
    "            Destino: {destino}  \n",
    "            Tiempo de viaje: {sum(minutes)} minutos \n",
    "            Combustible: {sum(fuel_reservoirs.values())} \n",
    "        \"\"\"\n",
    "    for key,values in fuel_reservoirs.items():\n",
    "        Report = f'Tanque: {key} Procentaje {values}'\n",
    "        return Report\n",
    "print(informe_preciso(\"Marte\",84,56,99,78,exter=2234,inter=345466))\n"
   ]
  },
  {
   "cell_type": "code",
   "execution_count": 69,
   "metadata": {},
   "outputs": [
    {
     "name": "stdout",
     "output_type": "stream",
     "text": [
      " Informe de la mision\n",
      "            Destino: Marte  \n",
      "            Tiempo de viaje: 317 minutos \n",
      "            Combustible: 20000 \n",
      "        Tanque: externo Procentaje 19000\n"
     ]
    }
   ],
   "source": [
    "def informe_preciso(destino, *minutes, **fuel_reservoirs): \n",
    "    minutos=sum(minutes)\n",
    "    combustible=sum(fuel_reservoirs.values())\n",
    "    Report = f\"\"\" Informe de la mision\n",
    "            Destino: {destino}  \n",
    "            Tiempo de viaje: {minutos} minutos \n",
    "            Combustible: {combustible} \n",
    "        \"\"\"\n",
    "    for key, values in fuel_reservoirs.items():\n",
    "        Report += f\"Tanque: {key} Procentaje {values}\"\n",
    "        return Report\n",
    "print(informe_preciso(\"Marte\",84,56,99,78,externo=19000,interno=1000))"
   ]
  },
  {
   "cell_type": "code",
   "execution_count": 42,
   "metadata": {},
   "outputs": [
    {
     "name": "stdout",
     "output_type": "stream",
     "text": [
      "\n",
      "    Mission to Moon\n",
      "    Total travel time: 74 minutes\n",
      "    Total fuel left: 500000\n",
      "    main tank --> 300000 gallons left\n",
      "external tank --> 200000 gallons left\n",
      "\n"
     ]
    }
   ],
   "source": [
    "# Escribe tu nueva función\n",
    "\n",
    "def mission_report(destination, *minutes, **fuel_reservoirs):\n",
    "    main_report = f\"\"\"\n",
    "    Mission to {destination}\n",
    "    Total travel time: {sum(minutes)} minutes\n",
    "    Total fuel left: {sum(fuel_reservoirs.values())}\n",
    "    \"\"\"\n",
    "    for tank_name, gallons in fuel_reservoirs.items():\n",
    "        main_report += f\"{tank_name} tank --> {gallons} gallons left\\n\"\n",
    "    return main_report\n",
    "\n",
    "print(mission_report(\"Moon\", 8, 11, 55, main=300000, external=200000))"
   ]
  }
 ],
 "metadata": {
  "interpreter": {
   "hash": "bf345649d1cd26093be5be1262bb86bcf354c3239a9fe0d2d6b9d6a8ba46a513"
  },
  "kernelspec": {
   "display_name": "Python 3.10.2 64-bit",
   "language": "python",
   "name": "python3"
  },
  "language_info": {
   "codemirror_mode": {
    "name": "ipython",
    "version": 3
   },
   "file_extension": ".py",
   "mimetype": "text/x-python",
   "name": "python",
   "nbconvert_exporter": "python",
   "pygments_lexer": "ipython3",
   "version": "3.10.2"
  },
  "orig_nbformat": 4
 },
 "nbformat": 4,
 "nbformat_minor": 2
}
