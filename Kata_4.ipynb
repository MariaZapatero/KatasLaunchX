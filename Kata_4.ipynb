{
 "cells": [
  {
   "cell_type": "markdown",
   "metadata": {},
   "source": [
    "# Cadenas de texto"
   ]
  },
  {
   "cell_type": "code",
   "execution_count": null,
   "metadata": {},
   "outputs": [],
   "source": [
    "fact = 'The Moon has no atmosphere.'\n",
    "fact + 'No sound can be heard on the Moon.'\n",
    "\n",
    "two_facts = fact + 'No sound can be heard on the Moon.'\n",
    "two_facts"
   ]
  },
  {
   "cell_type": "code",
   "execution_count": null,
   "metadata": {},
   "outputs": [],
   "source": [
    "##Dividir palabras\n",
    "text = \"\"\"Interesting facts about the Moon. The Moon is Earth's only satellite. There are several interesting facts about the Moon and how it affects life here on Earth. \n",
    "On average, the Moon moves 4cm away from the Earth every year. This yearly drift is not significant enough to cause immediate effects on Earth. The highest daylight temperature of the Moon is 127 C\"\"\"\n",
    "texto=text.split('.')\n",
    "texto\n",
    "##Definir palabras clave\n",
    "palabras_clave = ['average','temperature ','distance ']\n",
    "##Datos relacionados con la palabra clave\n",
    "for variable in texto:\n",
    "    for palabras in  palabras_clave:\n",
    "        if palabras in variable:\n",
    "            print(variable)\n",
    "            print(\"**********\")\n",
    "            break\n",
    "##Reemplazar palabras\n",
    "for variable in texto:\n",
    "    for palabras in  palabras_clave:\n",
    "        if palabras in variable:\n",
    "            print(variable.replace('C', 'Celsius'))\n",
    "            break"
   ]
  },
  {
   "cell_type": "markdown",
   "metadata": {},
   "source": [
    "# Ejercicio 2"
   ]
  },
  {
   "cell_type": "code",
   "execution_count": 11,
   "metadata": {},
   "outputs": [
    {
     "name": "stdout",
     "output_type": "stream",
     "text": [
      "Datos de gravedad en  Moon\n",
      "- - - - - - - - - - - - - - - - - - - - - - - -\n",
      " Planeta: Moon \n",
      " gravedad: 1.6199999999999999 m.\n"
     ]
    }
   ],
   "source": [
    "##Definir un titulo\n",
    "name = \"Moon\"\n",
    "gravity = 0.00162 # in kms\n",
    "planet = \"Earth\"\n",
    "gravedad =gravity *1000\n",
    "titulo= f\"Datos de gravedad en  {name}\"\n",
    "print(titulo)\n",
    "multiline = f\"\"\"- - - - - - - - - - - - - - - - - - - - - - - -\\n Planeta: {name} \\n gravedad: {gravedad} m.\"\"\"\n",
    "print(multiline)"
   ]
  },
  {
   "cell_type": "code",
   "execution_count": 17,
   "metadata": {},
   "outputs": [
    {
     "name": "stdout",
     "output_type": "stream",
     "text": [
      "Datos de gravedad en  Ganímedes \n",
      "- - - - - - - - - - - - - - - - - - - - - - - -\n",
      " Planeta: Ganímedes \n",
      " gravedad: 1.4300000000000002 m.\n"
     ]
    }
   ],
   "source": [
    "##Definir un titulo\n",
    "name = \"Ganímedes\"\n",
    "gravity = 0.00143 # in kms\n",
    "planet = \"Marte\"\n",
    "gravedad =gravity *1000\n",
    "titulo= 'Datos de gravedad en  {} '.format(name)\n",
    "print(titulo)\n",
    "multiline = '- - - - - - - - - - - - - - - - - - - - - - - -\\n Planeta: {} \\n gravedad: {} m.'.format(name,gravedad)\n",
    "print(multiline)"
   ]
  }
 ],
 "metadata": {
  "interpreter": {
   "hash": "8378967a069faeeb1a1315eff29aa6a1c5271160e2ec7e3ec28c19fbc78310d2"
  },
  "kernelspec": {
   "display_name": "Python 3.9.10 64-bit (windows store)",
   "language": "python",
   "name": "python3"
  },
  "language_info": {
   "codemirror_mode": {
    "name": "ipython",
    "version": 3
   },
   "file_extension": ".py",
   "mimetype": "text/x-python",
   "name": "python",
   "nbconvert_exporter": "python",
   "pygments_lexer": "ipython3",
   "version": "3.10.2"
  },
  "orig_nbformat": 4
 },
 "nbformat": 4,
 "nbformat_minor": 2
}
