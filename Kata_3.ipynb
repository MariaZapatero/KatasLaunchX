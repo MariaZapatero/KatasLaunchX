{
 "cells": [
  {
   "cell_type": "code",
   "execution_count": null,
   "metadata": {},
   "outputs": [],
   "source": []
  },
  {
   "cell_type": "code",
   "execution_count": 4,
   "metadata": {},
   "outputs": [],
   "source": [
    "##Tip de practica\n",
    "a = 97\n",
    "b = 55\n",
    "##Expresion de perueba\n",
    "if a < b:\n",
    "    ##Instrucion a ejecutar\n",
    "    print(b)"
   ]
  },
  {
   "cell_type": "code",
   "execution_count": 5,
   "metadata": {},
   "outputs": [
    {
     "name": "stdout",
     "output_type": "stream",
     "text": [
      "93\n"
     ]
    }
   ],
   "source": [
    "# Aplica el tip de práctica 1.\n",
    "a = 93\n",
    "b = 27\n",
    "if a >= b:\n",
    "    print(a)"
   ]
  },
  {
   "cell_type": "code",
   "execution_count": 6,
   "metadata": {},
   "outputs": [
    {
     "name": "stdout",
     "output_type": "stream",
     "text": [
      "a es menor que b\n"
     ]
    }
   ],
   "source": [
    "a = 16\n",
    "b = 25\n",
    "c = 27\n",
    "if a > b:\n",
    "    if b > c:\n",
    "        print (\"a es mayor que b y b es mayor que c\")\n",
    "    else: \n",
    "        print (\"a es mayor que b y menor que c\")\n",
    "elif a == b:\n",
    "    print (\"a es igual que b\")\n",
    "else:\n",
    "    print (\"a es menor que b\")"
   ]
  },
  {
   "cell_type": "code",
   "execution_count": 50,
   "metadata": {},
   "outputs": [
    {
     "name": "stdout",
     "output_type": "stream",
     "text": [
      "Se acerca un asteroide\n"
     ]
    }
   ],
   "source": [
    "velocidad = 20\n",
    "velocidad_asteroide = 49\n",
    "if velocidad_asteroide > velocidad:\n",
    "    print(\"Se acerca un asteroide\")\n",
    "else:\n",
    "    print(\"No hay problemas\")"
   ]
  },
  {
   "cell_type": "code",
   "execution_count": 48,
   "metadata": {},
   "outputs": [
    {
     "name": "stdout",
     "output_type": "stream",
     "text": [
      "No hay ninguna luz\n"
     ]
    }
   ],
   "source": [
    "velocidad_atmosfera = 20\n",
    "velocidad_asteroide = 19\n",
    "if velocidad_asteroide >= velocidad_atmosfera:\n",
    "    print (\"Busca el asteriode en el cielo, hay un rayo de luz\")\n",
    "elif velocidad_atmosfera == velocidad_asteroide:\n",
    "    print (\"Mira el cielo hay un rayo de luz\")\n",
    "else:\n",
    "    print (\"No hay ninguna luz\")"
   ]
  },
  {
   "cell_type": "code",
   "execution_count": 36,
   "metadata": {},
   "outputs": [
    {
     "name": "stdout",
     "output_type": "stream",
     "text": [
      " Adevertencia Peligro asteroide causara impacto grande\n"
     ]
    }
   ],
   "source": [
    "dimension = 40\n",
    "velocidad = 26\n",
    "if dimension > 25 and dimension < 1000 and velocidad > 25:\n",
    "    print(\" Adevertencia Peligro asteroide causara impacto grande\")\n",
    "elif velocidad >= 20:\n",
    "    print(\"Mira el cielo hay un rayo de luz\")\n",
    "elif dimension < 25:\n",
    "    print(\"No hay peligro asteroiide se quemara al entrar a la atmosfera\")\n",
    "else:\n",
    "    print(\"No hay peligro\")"
   ]
  }
 ],
 "metadata": {
  "interpreter": {
   "hash": "bf345649d1cd26093be5be1262bb86bcf354c3239a9fe0d2d6b9d6a8ba46a513"
  },
  "kernelspec": {
   "display_name": "Python 3.10.2 64-bit",
   "language": "python",
   "name": "python3"
  },
  "language_info": {
   "codemirror_mode": {
    "name": "ipython",
    "version": 3
   },
   "file_extension": ".py",
   "mimetype": "text/x-python",
   "name": "python",
   "nbconvert_exporter": "python",
   "pygments_lexer": "ipython3",
   "version": "3.10.2"
  },
  "orig_nbformat": 4
 },
 "nbformat": 4,
 "nbformat_minor": 2
}
