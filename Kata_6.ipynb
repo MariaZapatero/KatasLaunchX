{
 "cells": [
  {
   "cell_type": "markdown",
   "metadata": {},
   "source": [
    "# Listas"
   ]
  },
  {
   "cell_type": "code",
   "execution_count": 4,
   "metadata": {},
   "outputs": [
    {
     "name": "stdout",
     "output_type": "stream",
     "text": [
      "The first planet is Mercury\n",
      "The second planet is Venus\n",
      "The third planet is Earth\n",
      "Mars is also known as Red Planet\n",
      "There are 8 planets in the solar system.\n",
      "The last planet is Neptune\n",
      "The penultimate planet is Uranus\n"
     ]
    }
   ],
   "source": [
    "planets = ['Mercury', 'Venus', 'Earth', 'Mars', 'Jupiter', 'Saturn', 'Uranus', 'Neptune']\n",
    "print('The first planet is', planets[0])\n",
    "print('The second planet is', planets[1])\n",
    "print('The third planet is', planets[2])\n",
    "planets[3] = 'Red Planet'\n",
    "print('Mars is also known as', planets[3])\n",
    "#Longitud de la lista\n",
    "number_of_planets = len(planets)\n",
    "print('There are', number_of_planets, 'planets in the solar system.')\n",
    "print('The last planet is', planets[-1])\n",
    "print('The penultimate planet is', planets[-2])"
   ]
  },
  {
   "cell_type": "markdown",
   "metadata": {},
   "source": [
    "# Ejercicio 1"
   ]
  },
  {
   "cell_type": "code",
   "execution_count": 9,
   "metadata": {},
   "outputs": [
    {
     "name": "stdout",
     "output_type": "stream",
     "text": [
      "En el sistema solar hay  8  planetas\n",
      "Pero en realidad hay  9\n"
     ]
    }
   ],
   "source": [
    "# Creamos la lista planets y la mostramos\n",
    "planets = ['Mercurio','Venus','Tierra','Marte','Jupiter','Saturno','Urano','Neptuno']\n",
    "longitud = len(planets)\n",
    "print('En el sistema solar hay ',longitud,' planetas')\n",
    "# Agregamos a plutón y mostramos el último elemento\n",
    "planets.append('Pluto')\n",
    "longitud = len(planets)\n",
    "print('Pero en realidad hay ',longitud)\n"
   ]
  },
  {
   "cell_type": "markdown",
   "metadata": {},
   "source": [
    "# Ejercicio 2"
   ]
  },
  {
   "cell_type": "code",
   "execution_count": 17,
   "metadata": {},
   "outputs": [
    {
     "name": "stdout",
     "output_type": "stream",
     "text": [
      "Tierra  es el 3  planeta del sistema solar\n",
      "Planetas cercanos al sol ['Mercurio', 'Venus']\n",
      "Planetas lejanos al sol ['Marte', 'Jupiter', 'Saturno', 'Urano', 'Neptuno']\n"
     ]
    }
   ],
   "source": [
    "# Lista de planetas\n",
    "planets = ['Mercurio','Venus','Tierra','Marte','Jupiter','Saturno','Urano','Neptuno']\n",
    "# Solicitamos el nombre de un planeta *Pista:  input()*\n",
    "valor_usuario = input('Ingresa el planeta')\n",
    "# Busca el planeta en la lista\n",
    "valor_index = planets.index(valor_usuario )\n",
    "print(valor_usuario,' es el', valor_index + 1, ' planeta del sistema solar')\n",
    "# Muestra los planetas más cercanos al sol\n",
    "planetas_cercanos_sol = planets[0:valor_index ]\n",
    "print('Planetas cercanos al sol', planetas_cercanos_sol)\n",
    "# Muestra los planetas más lejanos al sol\n",
    "planetas_lejanos_sol = planets[valor_index + 1: ]\n",
    "print('Planetas lejanos al sol', planetas_lejanos_sol)"
   ]
  }
 ],
 "metadata": {
  "interpreter": {
   "hash": "bf345649d1cd26093be5be1262bb86bcf354c3239a9fe0d2d6b9d6a8ba46a513"
  },
  "kernelspec": {
   "display_name": "Python 3.10.2 64-bit",
   "language": "python",
   "name": "python3"
  },
  "language_info": {
   "codemirror_mode": {
    "name": "ipython",
    "version": 3
   },
   "file_extension": ".py",
   "mimetype": "text/x-python",
   "name": "python",
   "nbconvert_exporter": "python",
   "pygments_lexer": "ipython3",
   "version": "3.10.2"
  },
  "orig_nbformat": 4
 },
 "nbformat": 4,
 "nbformat_minor": 2
}
