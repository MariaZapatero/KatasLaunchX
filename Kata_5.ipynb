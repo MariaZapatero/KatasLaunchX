{
 "cells": [
  {
   "cell_type": "code",
   "execution_count": null,
   "metadata": {},
   "outputs": [],
   "source": [
    "from math import ceil, floor\n",
    "\n",
    "round_up = ceil(12.5)\n",
    "print(round_up)\n",
    "\n",
    "round_down = floor(12.5)\n",
    "print(round_down)"
   ]
  },
  {
   "cell_type": "markdown",
   "metadata": {},
   "source": [
    "# Ejercicio 1: Uso de valores aritmeticos"
   ]
  },
  {
   "cell_type": "code",
   "execution_count": 6,
   "metadata": {},
   "outputs": [
    {
     "name": "stdout",
     "output_type": "stream",
     "text": [
      "628949330\n",
      "390577534\n"
     ]
    }
   ],
   "source": [
    "# Crear variables para almacenar las dos distancias\n",
    "Tierra = 149597870\n",
    "Jupiter = 778547200\n",
    "# Calcular la distancia entre planetas\n",
    "Kilometros =Jupiter - Tierra\n",
    "print(Kilometros)\n",
    "Millas = Kilometros * 0.621\n",
    "print(round(Millas))"
   ]
  },
  {
   "cell_type": "markdown",
   "metadata": {},
   "source": [
    "# Ejercicio 2 **"
   ]
  },
  {
   "cell_type": "code",
   "execution_count": 16,
   "metadata": {},
   "outputs": [
    {
     "name": "stdout",
     "output_type": "stream",
     "text": [
      "20\n",
      "12.42\n"
     ]
    }
   ],
   "source": [
    "# Almacenar las entradas del usuario\n",
    "Primer_valor = input(\"Agrega la primer distancia\")\n",
    "Segundo_valor = input(\"Agrega tu segundo valor\")\n",
    "#Convierte las cadenas de ambos planetas a números enteros\n",
    "primer = int(Primer_valor)\n",
    "Segundo = int(Segundo_valor)\n",
    "# Realizar el cálculo y determinar el valor absoluto\n",
    "Kilometros =Segundo - primer\n",
    "print(abs(Kilometros))\n",
    "# Convertir de KM a Millas\n",
    "Millas = Kilometros * 0.621\n",
    "print(abs(Millas))"
   ]
  }
 ],
 "metadata": {
  "interpreter": {
   "hash": "bf345649d1cd26093be5be1262bb86bcf354c3239a9fe0d2d6b9d6a8ba46a513"
  },
  "kernelspec": {
   "display_name": "Python 3.10.2 64-bit",
   "language": "python",
   "name": "python3"
  },
  "language_info": {
   "codemirror_mode": {
    "name": "ipython",
    "version": 3
   },
   "file_extension": ".py",
   "mimetype": "text/x-python",
   "name": "python",
   "nbconvert_exporter": "python",
   "pygments_lexer": "ipython3",
   "version": "3.10.2"
  },
  "orig_nbformat": 4
 },
 "nbformat": 4,
 "nbformat_minor": 2
}
